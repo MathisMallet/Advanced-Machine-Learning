{
 "cells": [
  {
   "cell_type": "markdown",
   "metadata": {
    "id": "ekczNcQxUpzT"
   },
   "source": [
    "# Your Uni : xh2604 and mm6712\n",
    "# Your Full name : Xiyun Hu and Mathis Mallet\n",
    "# Link to your Public Github repository with Final report  : https://github.com/MathisMallet/Advanced-Machine-Learning\n"
   ]
  },
  {
   "cell_type": "markdown",
   "metadata": {
    "id": "JXxGTgJz152A"
   },
   "source": [
    "# World Happiness Classification Competition\n",
    "Goals :\n",
    "- Understand how the models function\n",
    "- Understand what the parameters control\n",
    "- Learn from the model experimentation process\n",
    "- Make a good looking notebook report\n",
    "- Upload as a personal project on Github\n",
    "\n",
    "**Overall Steps:**\n",
    "1. Get data in and set up X_train / X_test / y_train\n",
    "2. Preprocess data using Sklearn Column Transformer/ Write and Save Preprocessor function\n",
    "3. Fit model on preprocessed data and save preprocessor function and model\n",
    "4. Generate predictions from X_test data and submit predictions\n",
    "\n"
   ]
  },
  {
   "cell_type": "markdown",
   "metadata": {
    "id": "5gSrVJwp3E9H"
   },
   "source": [
    "## 0. Get data in and set up X_train, X_test, y_train objects"
   ]
  },
  {
   "cell_type": "markdown",
   "metadata": {
    "id": "iemh36mSklGo"
   },
   "source": [
    "**Instructions:**\n",
    "Upload the world_happiness_competition_data.zip and newcountryvars.csv files on Colab by pressing the Folder icon on left tab (Shows \"Files\" on hovering), and then clicking the left-most file upload button (Shows \"Upload to Session Storage\" Alt text on hovering)"
   ]
  },
  {
   "cell_type": "markdown",
   "metadata": {},
   "source": [
    "### Warning: run only once"
   ]
  },
  {
   "cell_type": "code",
   "execution_count": 6,
   "metadata": {
    "id": "l-YsXXXcUQ9G"
   },
   "outputs": [],
   "source": [
    "# Get training data from course folder and unzip\n",
    "# importing the zipfile module\n",
    "from zipfile import ZipFile\n",
    "import os\n",
    "\n",
    "\n",
    "# loading the temp.zip and creating a zip object\n",
    "with ZipFile(\"world_happiness_competition_data.zip\", 'r') as zObject:\n",
    "\n",
    "    # Extracting all the members of the zip\n",
    "    # into a specific location.\n",
    "    zObject.extractall()"
   ]
  },
  {
   "cell_type": "code",
   "execution_count": 13,
   "metadata": {},
   "outputs": [],
   "source": [
    "os.chdir(\"world_happiness_competition_data\")"
   ]
  },
  {
   "cell_type": "code",
   "execution_count": 14,
   "metadata": {},
   "outputs": [],
   "source": [
    "# Load data\n",
    "import pandas as pd\n",
    "\n",
    "X_train = pd.read_csv('X_train.csv')"
   ]
  },
  {
   "cell_type": "code",
   "execution_count": 15,
   "metadata": {},
   "outputs": [
    {
     "data": {
      "text/html": [
       "<div>\n",
       "<style scoped>\n",
       "    .dataframe tbody tr th:only-of-type {\n",
       "        vertical-align: middle;\n",
       "    }\n",
       "\n",
       "    .dataframe tbody tr th {\n",
       "        vertical-align: top;\n",
       "    }\n",
       "\n",
       "    .dataframe thead th {\n",
       "        text-align: right;\n",
       "    }\n",
       "</style>\n",
       "<table border=\"1\" class=\"dataframe\">\n",
       "  <thead>\n",
       "    <tr style=\"text-align: right;\">\n",
       "      <th></th>\n",
       "      <th>Country or region</th>\n",
       "      <th>GDP per capita</th>\n",
       "      <th>Social support</th>\n",
       "      <th>Healthy life expectancy</th>\n",
       "      <th>Freedom to make life choices</th>\n",
       "      <th>Generosity</th>\n",
       "      <th>Perceptions of corruption</th>\n",
       "      <th>name</th>\n",
       "      <th>region</th>\n",
       "      <th>sub-region</th>\n",
       "      <th>Terrorist_attacks</th>\n",
       "    </tr>\n",
       "  </thead>\n",
       "  <tbody>\n",
       "    <tr>\n",
       "      <th>0</th>\n",
       "      <td>Latvia</td>\n",
       "      <td>1.187</td>\n",
       "      <td>1.465</td>\n",
       "      <td>0.812</td>\n",
       "      <td>0.264</td>\n",
       "      <td>0.075</td>\n",
       "      <td>0.064</td>\n",
       "      <td>Latvia</td>\n",
       "      <td>Europe</td>\n",
       "      <td>Northern Europe</td>\n",
       "      <td>125.611111</td>\n",
       "    </tr>\n",
       "    <tr>\n",
       "      <th>1</th>\n",
       "      <td>Burundi</td>\n",
       "      <td>0.046</td>\n",
       "      <td>0.447</td>\n",
       "      <td>0.380</td>\n",
       "      <td>0.220</td>\n",
       "      <td>0.176</td>\n",
       "      <td>0.180</td>\n",
       "      <td>Burundi</td>\n",
       "      <td>Africa</td>\n",
       "      <td>Sub-Saharan Africa</td>\n",
       "      <td>155.000000</td>\n",
       "    </tr>\n",
       "    <tr>\n",
       "      <th>2</th>\n",
       "      <td>Belarus</td>\n",
       "      <td>1.067</td>\n",
       "      <td>1.465</td>\n",
       "      <td>0.789</td>\n",
       "      <td>0.235</td>\n",
       "      <td>0.094</td>\n",
       "      <td>0.142</td>\n",
       "      <td>Belarus</td>\n",
       "      <td>Europe</td>\n",
       "      <td>Eastern Europe</td>\n",
       "      <td>4.000000</td>\n",
       "    </tr>\n",
       "    <tr>\n",
       "      <th>3</th>\n",
       "      <td>Liberia</td>\n",
       "      <td>0.073</td>\n",
       "      <td>0.922</td>\n",
       "      <td>0.443</td>\n",
       "      <td>0.370</td>\n",
       "      <td>0.233</td>\n",
       "      <td>0.033</td>\n",
       "      <td>Liberia</td>\n",
       "      <td>Africa</td>\n",
       "      <td>Sub-Saharan Africa</td>\n",
       "      <td>1419.095238</td>\n",
       "    </tr>\n",
       "    <tr>\n",
       "      <th>4</th>\n",
       "      <td>Ecuador</td>\n",
       "      <td>0.912</td>\n",
       "      <td>1.312</td>\n",
       "      <td>0.868</td>\n",
       "      <td>0.498</td>\n",
       "      <td>0.126</td>\n",
       "      <td>0.087</td>\n",
       "      <td>Ecuador</td>\n",
       "      <td>Americas</td>\n",
       "      <td>Latin America and the Caribbean</td>\n",
       "      <td>5.000000</td>\n",
       "    </tr>\n",
       "    <tr>\n",
       "      <th>...</th>\n",
       "      <td>...</td>\n",
       "      <td>...</td>\n",
       "      <td>...</td>\n",
       "      <td>...</td>\n",
       "      <td>...</td>\n",
       "      <td>...</td>\n",
       "      <td>...</td>\n",
       "      <td>...</td>\n",
       "      <td>...</td>\n",
       "      <td>...</td>\n",
       "      <td>...</td>\n",
       "    </tr>\n",
       "    <tr>\n",
       "      <th>64</th>\n",
       "      <td>Zimbabwe</td>\n",
       "      <td>0.366</td>\n",
       "      <td>1.114</td>\n",
       "      <td>0.433</td>\n",
       "      <td>0.361</td>\n",
       "      <td>0.151</td>\n",
       "      <td>0.089</td>\n",
       "      <td>Zimbabwe</td>\n",
       "      <td>Africa</td>\n",
       "      <td>Sub-Saharan Africa</td>\n",
       "      <td>1.000000</td>\n",
       "    </tr>\n",
       "    <tr>\n",
       "      <th>65</th>\n",
       "      <td>Venezuela</td>\n",
       "      <td>0.960</td>\n",
       "      <td>1.427</td>\n",
       "      <td>0.805</td>\n",
       "      <td>0.154</td>\n",
       "      <td>0.064</td>\n",
       "      <td>0.047</td>\n",
       "      <td>Venezuela</td>\n",
       "      <td>Americas</td>\n",
       "      <td>Latin America and the Caribbean</td>\n",
       "      <td>8.000000</td>\n",
       "    </tr>\n",
       "    <tr>\n",
       "      <th>66</th>\n",
       "      <td>Haiti</td>\n",
       "      <td>0.323</td>\n",
       "      <td>0.688</td>\n",
       "      <td>0.449</td>\n",
       "      <td>0.026</td>\n",
       "      <td>0.419</td>\n",
       "      <td>0.110</td>\n",
       "      <td>Haiti</td>\n",
       "      <td>Americas</td>\n",
       "      <td>Latin America and the Caribbean</td>\n",
       "      <td>1419.095238</td>\n",
       "    </tr>\n",
       "    <tr>\n",
       "      <th>67</th>\n",
       "      <td>Romania</td>\n",
       "      <td>1.162</td>\n",
       "      <td>1.232</td>\n",
       "      <td>0.825</td>\n",
       "      <td>0.462</td>\n",
       "      <td>0.083</td>\n",
       "      <td>0.005</td>\n",
       "      <td>Romania</td>\n",
       "      <td>Europe</td>\n",
       "      <td>Eastern Europe</td>\n",
       "      <td>125.611111</td>\n",
       "    </tr>\n",
       "    <tr>\n",
       "      <th>68</th>\n",
       "      <td>Egypt</td>\n",
       "      <td>0.913</td>\n",
       "      <td>1.039</td>\n",
       "      <td>0.644</td>\n",
       "      <td>0.241</td>\n",
       "      <td>0.076</td>\n",
       "      <td>0.067</td>\n",
       "      <td>Egypt</td>\n",
       "      <td>Africa</td>\n",
       "      <td>Northern Africa</td>\n",
       "      <td>1101.000000</td>\n",
       "    </tr>\n",
       "  </tbody>\n",
       "</table>\n",
       "<p>69 rows × 11 columns</p>\n",
       "</div>"
      ],
      "text/plain": [
       "   Country or region  GDP per capita  Social support  Healthy life expectancy  \\\n",
       "0             Latvia           1.187           1.465                    0.812   \n",
       "1            Burundi           0.046           0.447                    0.380   \n",
       "2            Belarus           1.067           1.465                    0.789   \n",
       "3            Liberia           0.073           0.922                    0.443   \n",
       "4            Ecuador           0.912           1.312                    0.868   \n",
       "..               ...             ...             ...                      ...   \n",
       "64          Zimbabwe           0.366           1.114                    0.433   \n",
       "65         Venezuela           0.960           1.427                    0.805   \n",
       "66             Haiti           0.323           0.688                    0.449   \n",
       "67           Romania           1.162           1.232                    0.825   \n",
       "68             Egypt           0.913           1.039                    0.644   \n",
       "\n",
       "    Freedom to make life choices  Generosity  Perceptions of corruption  \\\n",
       "0                          0.264       0.075                      0.064   \n",
       "1                          0.220       0.176                      0.180   \n",
       "2                          0.235       0.094                      0.142   \n",
       "3                          0.370       0.233                      0.033   \n",
       "4                          0.498       0.126                      0.087   \n",
       "..                           ...         ...                        ...   \n",
       "64                         0.361       0.151                      0.089   \n",
       "65                         0.154       0.064                      0.047   \n",
       "66                         0.026       0.419                      0.110   \n",
       "67                         0.462       0.083                      0.005   \n",
       "68                         0.241       0.076                      0.067   \n",
       "\n",
       "         name    region                       sub-region  Terrorist_attacks  \n",
       "0      Latvia    Europe                  Northern Europe         125.611111  \n",
       "1     Burundi    Africa               Sub-Saharan Africa         155.000000  \n",
       "2     Belarus    Europe                   Eastern Europe           4.000000  \n",
       "3     Liberia    Africa               Sub-Saharan Africa        1419.095238  \n",
       "4     Ecuador  Americas  Latin America and the Caribbean           5.000000  \n",
       "..        ...       ...                              ...                ...  \n",
       "64   Zimbabwe    Africa               Sub-Saharan Africa           1.000000  \n",
       "65  Venezuela  Americas  Latin America and the Caribbean           8.000000  \n",
       "66      Haiti  Americas  Latin America and the Caribbean        1419.095238  \n",
       "67    Romania    Europe                   Eastern Europe         125.611111  \n",
       "68      Egypt    Africa                  Northern Africa        1101.000000  \n",
       "\n",
       "[69 rows x 11 columns]"
      ]
     },
     "execution_count": 15,
     "metadata": {},
     "output_type": "execute_result"
    }
   ],
   "source": [
    "X_train"
   ]
  },
  {
   "cell_type": "code",
   "execution_count": 16,
   "metadata": {
    "id": "jT0qFCZFNzHq"
   },
   "outputs": [
    {
     "data": {
      "text/html": [
       "<div>\n",
       "<style scoped>\n",
       "    .dataframe tbody tr th:only-of-type {\n",
       "        vertical-align: middle;\n",
       "    }\n",
       "\n",
       "    .dataframe tbody tr th {\n",
       "        vertical-align: top;\n",
       "    }\n",
       "\n",
       "    .dataframe thead th {\n",
       "        text-align: right;\n",
       "    }\n",
       "</style>\n",
       "<table border=\"1\" class=\"dataframe\">\n",
       "  <thead>\n",
       "    <tr style=\"text-align: right;\">\n",
       "      <th></th>\n",
       "      <th>Country or region</th>\n",
       "      <th>GDP per capita</th>\n",
       "      <th>Social support</th>\n",
       "      <th>Healthy life expectancy</th>\n",
       "      <th>Freedom to make life choices</th>\n",
       "      <th>Generosity</th>\n",
       "      <th>Perceptions of corruption</th>\n",
       "      <th>name</th>\n",
       "      <th>region</th>\n",
       "      <th>sub-region</th>\n",
       "      <th>Terrorist_attacks</th>\n",
       "    </tr>\n",
       "  </thead>\n",
       "  <tbody>\n",
       "    <tr>\n",
       "      <th>0</th>\n",
       "      <td>Latvia</td>\n",
       "      <td>1.187</td>\n",
       "      <td>1.465</td>\n",
       "      <td>0.812</td>\n",
       "      <td>0.264</td>\n",
       "      <td>0.075</td>\n",
       "      <td>0.064</td>\n",
       "      <td>Latvia</td>\n",
       "      <td>Europe</td>\n",
       "      <td>Northern Europe</td>\n",
       "      <td>125.611111</td>\n",
       "    </tr>\n",
       "    <tr>\n",
       "      <th>1</th>\n",
       "      <td>Burundi</td>\n",
       "      <td>0.046</td>\n",
       "      <td>0.447</td>\n",
       "      <td>0.380</td>\n",
       "      <td>0.220</td>\n",
       "      <td>0.176</td>\n",
       "      <td>0.180</td>\n",
       "      <td>Burundi</td>\n",
       "      <td>Africa</td>\n",
       "      <td>Sub-Saharan Africa</td>\n",
       "      <td>155.000000</td>\n",
       "    </tr>\n",
       "    <tr>\n",
       "      <th>2</th>\n",
       "      <td>Belarus</td>\n",
       "      <td>1.067</td>\n",
       "      <td>1.465</td>\n",
       "      <td>0.789</td>\n",
       "      <td>0.235</td>\n",
       "      <td>0.094</td>\n",
       "      <td>0.142</td>\n",
       "      <td>Belarus</td>\n",
       "      <td>Europe</td>\n",
       "      <td>Eastern Europe</td>\n",
       "      <td>4.000000</td>\n",
       "    </tr>\n",
       "    <tr>\n",
       "      <th>3</th>\n",
       "      <td>Liberia</td>\n",
       "      <td>0.073</td>\n",
       "      <td>0.922</td>\n",
       "      <td>0.443</td>\n",
       "      <td>0.370</td>\n",
       "      <td>0.233</td>\n",
       "      <td>0.033</td>\n",
       "      <td>Liberia</td>\n",
       "      <td>Africa</td>\n",
       "      <td>Sub-Saharan Africa</td>\n",
       "      <td>1419.095238</td>\n",
       "    </tr>\n",
       "    <tr>\n",
       "      <th>4</th>\n",
       "      <td>Ecuador</td>\n",
       "      <td>0.912</td>\n",
       "      <td>1.312</td>\n",
       "      <td>0.868</td>\n",
       "      <td>0.498</td>\n",
       "      <td>0.126</td>\n",
       "      <td>0.087</td>\n",
       "      <td>Ecuador</td>\n",
       "      <td>Americas</td>\n",
       "      <td>Latin America and the Caribbean</td>\n",
       "      <td>5.000000</td>\n",
       "    </tr>\n",
       "  </tbody>\n",
       "</table>\n",
       "</div>"
      ],
      "text/plain": [
       "  Country or region  GDP per capita  Social support  Healthy life expectancy  \\\n",
       "0            Latvia           1.187           1.465                    0.812   \n",
       "1           Burundi           0.046           0.447                    0.380   \n",
       "2           Belarus           1.067           1.465                    0.789   \n",
       "3           Liberia           0.073           0.922                    0.443   \n",
       "4           Ecuador           0.912           1.312                    0.868   \n",
       "\n",
       "   Freedom to make life choices  Generosity  Perceptions of corruption  \\\n",
       "0                         0.264       0.075                      0.064   \n",
       "1                         0.220       0.176                      0.180   \n",
       "2                         0.235       0.094                      0.142   \n",
       "3                         0.370       0.233                      0.033   \n",
       "4                         0.498       0.126                      0.087   \n",
       "\n",
       "      name    region                       sub-region  Terrorist_attacks  \n",
       "0   Latvia    Europe                  Northern Europe         125.611111  \n",
       "1  Burundi    Africa               Sub-Saharan Africa         155.000000  \n",
       "2  Belarus    Europe                   Eastern Europe           4.000000  \n",
       "3  Liberia    Africa               Sub-Saharan Africa        1419.095238  \n",
       "4  Ecuador  Americas  Latin America and the Caribbean           5.000000  "
      ]
     },
     "execution_count": 16,
     "metadata": {},
     "output_type": "execute_result"
    }
   ],
   "source": [
    "# Load data\n",
    "import pandas as pd\n",
    "X_train = pd.read_csv('X_train.csv')\n",
    "X_test =  pd.read_csv(\"X_test.csv\") # Load test features to predict on\n",
    "y_train =  pd.read_csv(\"y_train.csv\") # Load y train (true labels)\n",
    "y_test =  pd.read_csv(\"y_test.csv\") # Load y test (true labels)\n",
    "y_train_labels = y_train.idxmax(axis=1) # Examine what this does and write in next cell\n",
    "y_test_labels = y_test.idxmax(axis=1) # Complete in a similar manner as above\n",
    "\n",
    "X_train.head()"
   ]
  },
  {
   "cell_type": "code",
   "execution_count": 19,
   "metadata": {},
   "outputs": [
    {
     "data": {
      "text/html": [
       "<div>\n",
       "<style scoped>\n",
       "    .dataframe tbody tr th:only-of-type {\n",
       "        vertical-align: middle;\n",
       "    }\n",
       "\n",
       "    .dataframe tbody tr th {\n",
       "        vertical-align: top;\n",
       "    }\n",
       "\n",
       "    .dataframe thead th {\n",
       "        text-align: right;\n",
       "    }\n",
       "</style>\n",
       "<table border=\"1\" class=\"dataframe\">\n",
       "  <thead>\n",
       "    <tr style=\"text-align: right;\">\n",
       "      <th></th>\n",
       "      <th>Average</th>\n",
       "      <th>High</th>\n",
       "      <th>Low</th>\n",
       "      <th>Very High</th>\n",
       "      <th>Very Low</th>\n",
       "    </tr>\n",
       "  </thead>\n",
       "  <tbody>\n",
       "    <tr>\n",
       "      <th>0</th>\n",
       "      <td>0</td>\n",
       "      <td>1</td>\n",
       "      <td>0</td>\n",
       "      <td>0</td>\n",
       "      <td>0</td>\n",
       "    </tr>\n",
       "    <tr>\n",
       "      <th>1</th>\n",
       "      <td>0</td>\n",
       "      <td>0</td>\n",
       "      <td>0</td>\n",
       "      <td>0</td>\n",
       "      <td>1</td>\n",
       "    </tr>\n",
       "    <tr>\n",
       "      <th>2</th>\n",
       "      <td>1</td>\n",
       "      <td>0</td>\n",
       "      <td>0</td>\n",
       "      <td>0</td>\n",
       "      <td>0</td>\n",
       "    </tr>\n",
       "    <tr>\n",
       "      <th>3</th>\n",
       "      <td>0</td>\n",
       "      <td>0</td>\n",
       "      <td>0</td>\n",
       "      <td>0</td>\n",
       "      <td>1</td>\n",
       "    </tr>\n",
       "    <tr>\n",
       "      <th>4</th>\n",
       "      <td>0</td>\n",
       "      <td>1</td>\n",
       "      <td>0</td>\n",
       "      <td>0</td>\n",
       "      <td>0</td>\n",
       "    </tr>\n",
       "    <tr>\n",
       "      <th>...</th>\n",
       "      <td>...</td>\n",
       "      <td>...</td>\n",
       "      <td>...</td>\n",
       "      <td>...</td>\n",
       "      <td>...</td>\n",
       "    </tr>\n",
       "    <tr>\n",
       "      <th>64</th>\n",
       "      <td>0</td>\n",
       "      <td>0</td>\n",
       "      <td>0</td>\n",
       "      <td>0</td>\n",
       "      <td>1</td>\n",
       "    </tr>\n",
       "    <tr>\n",
       "      <th>65</th>\n",
       "      <td>0</td>\n",
       "      <td>0</td>\n",
       "      <td>1</td>\n",
       "      <td>0</td>\n",
       "      <td>0</td>\n",
       "    </tr>\n",
       "    <tr>\n",
       "      <th>66</th>\n",
       "      <td>0</td>\n",
       "      <td>0</td>\n",
       "      <td>0</td>\n",
       "      <td>0</td>\n",
       "      <td>1</td>\n",
       "    </tr>\n",
       "    <tr>\n",
       "      <th>67</th>\n",
       "      <td>0</td>\n",
       "      <td>1</td>\n",
       "      <td>0</td>\n",
       "      <td>0</td>\n",
       "      <td>0</td>\n",
       "    </tr>\n",
       "    <tr>\n",
       "      <th>68</th>\n",
       "      <td>0</td>\n",
       "      <td>0</td>\n",
       "      <td>0</td>\n",
       "      <td>0</td>\n",
       "      <td>1</td>\n",
       "    </tr>\n",
       "  </tbody>\n",
       "</table>\n",
       "<p>69 rows × 5 columns</p>\n",
       "</div>"
      ],
      "text/plain": [
       "    Average  High  Low  Very High  Very Low\n",
       "0         0     1    0          0         0\n",
       "1         0     0    0          0         1\n",
       "2         1     0    0          0         0\n",
       "3         0     0    0          0         1\n",
       "4         0     1    0          0         0\n",
       "..      ...   ...  ...        ...       ...\n",
       "64        0     0    0          0         1\n",
       "65        0     0    1          0         0\n",
       "66        0     0    0          0         1\n",
       "67        0     1    0          0         0\n",
       "68        0     0    0          0         1\n",
       "\n",
       "[69 rows x 5 columns]"
      ]
     },
     "execution_count": 19,
     "metadata": {},
     "output_type": "execute_result"
    }
   ],
   "source": [
    "y_train"
   ]
  },
  {
   "cell_type": "markdown",
   "metadata": {
    "id": "KvTXc7QOl5s7"
   },
   "source": [
    "Write in the next cell what the y_train_labels = y_train.idxmax(axis=1) line does. What is the difference between y_train_labels and y_train?"
   ]
  },
  {
   "cell_type": "code",
   "execution_count": 18,
   "metadata": {},
   "outputs": [
    {
     "data": {
      "text/plain": [
       "0         High\n",
       "1     Very Low\n",
       "2      Average\n",
       "3     Very Low\n",
       "4         High\n",
       "        ...   \n",
       "64    Very Low\n",
       "65         Low\n",
       "66    Very Low\n",
       "67        High\n",
       "68    Very Low\n",
       "Length: 69, dtype: object"
      ]
     },
     "execution_count": 18,
     "metadata": {},
     "output_type": "execute_result"
    }
   ],
   "source": [
    "y_train_labels"
   ]
  },
  {
   "cell_type": "code",
   "execution_count": null,
   "metadata": {
    "id": "DsFZm1z0l0EC"
   },
   "outputs": [],
   "source": [
    "# Your answer:"
   ]
  },
  {
   "cell_type": "markdown",
   "metadata": {
    "id": "jbevDQ9_8-pt"
   },
   "source": [
    "##  Add new data"
   ]
  },
  {
   "cell_type": "code",
   "execution_count": null,
   "metadata": {
    "id": "tFBU6SBm896W"
   },
   "outputs": [],
   "source": [
    "# Truncated and cleaned up region data to merge\n",
    "countrydata=pd.read_csv(\"newcountryvars.csv\")\n",
    "\n",
    "countrydata.head()"
   ]
  },
  {
   "cell_type": "code",
   "execution_count": null,
   "metadata": {
    "id": "8iMJhqME9Lmq"
   },
   "outputs": [],
   "source": [
    "# Merge in new data to X_train and X_test by taking \"Country or region\" from first table and \"country_name\" from 2nd table.\n",
    "\n",
    "X_train = ## Complete code\n",
    "X_test = ## Complete code\n"
   ]
  },
  {
   "cell_type": "code",
   "execution_count": null,
   "metadata": {
    "id": "zAcRWzym-4iT"
   },
   "outputs": [],
   "source": [
    "X_train.head(1)"
   ]
  },
  {
   "cell_type": "markdown",
   "metadata": {
    "id": "3MV_a5QaydpZ"
   },
   "source": [
    "# EDA"
   ]
  },
  {
   "cell_type": "code",
   "execution_count": null,
   "metadata": {
    "id": "jM5kFt5zC4yn"
   },
   "outputs": [],
   "source": [
    "print(X_train.dtypes)"
   ]
  },
  {
   "cell_type": "markdown",
   "metadata": {
    "id": "eBngMQdmykLZ"
   },
   "source": [
    "Describe what you see above?"
   ]
  },
  {
   "cell_type": "code",
   "execution_count": null,
   "metadata": {
    "id": "Phkm6BKCyjuF"
   },
   "outputs": [],
   "source": [
    "## Your answer:"
   ]
  },
  {
   "cell_type": "markdown",
   "metadata": {
    "id": "OmlG3-8Tys3-"
   },
   "source": [
    "Find out the number and percentage of missing values in the table per column"
   ]
  },
  {
   "cell_type": "code",
   "execution_count": null,
   "metadata": {
    "id": "ejFHu-84y2Nr"
   },
   "outputs": [],
   "source": [
    "# Your code here:"
   ]
  },
  {
   "cell_type": "markdown",
   "metadata": {
    "id": "c7Q3_DMwy4sX"
   },
   "source": [
    "Plot the frequency distribution / histogram of some of the numerical features that you think are important"
   ]
  },
  {
   "cell_type": "code",
   "execution_count": null,
   "metadata": {
    "id": "neosQxQRzKfq"
   },
   "outputs": [],
   "source": [
    "# Your plotting code here:"
   ]
  },
  {
   "cell_type": "markdown",
   "metadata": {
    "id": "F0MxV_o9zNCE"
   },
   "source": [
    "Plot the categorical variables and their distribution"
   ]
  },
  {
   "cell_type": "code",
   "execution_count": null,
   "metadata": {
    "id": "17wHJ4hYzRkv"
   },
   "outputs": [],
   "source": [
    "# Your plotting code here:"
   ]
  },
  {
   "cell_type": "markdown",
   "metadata": {
    "id": "Oi3lA3QElvZh"
   },
   "source": [
    "Explore relationships between variables (bivariate, etc), correlation tables, and how they associate with the target variable."
   ]
  },
  {
   "cell_type": "code",
   "execution_count": null,
   "metadata": {
    "id": "91OgPpv8mQ3T"
   },
   "outputs": [],
   "source": [
    "# Your plotting code(s) here:"
   ]
  },
  {
   "cell_type": "markdown",
   "metadata": {
    "id": "878CQ8e9zTf_"
   },
   "source": [
    "Write what you observed and your General comments on what should be done:"
   ]
  },
  {
   "cell_type": "code",
   "execution_count": null,
   "metadata": {
    "id": "V_C7nCaYzZ_O"
   },
   "outputs": [],
   "source": [
    "# Your comments here"
   ]
  },
  {
   "cell_type": "markdown",
   "metadata": {
    "id": "gEzPoXPj3V7u"
   },
   "source": [
    "##2.   Preprocess data using Sklearn Column Transformer/ Write and Save Preprocessor function\n"
   ]
  },
  {
   "cell_type": "code",
   "execution_count": null,
   "metadata": {
    "id": "16QV9Y9TC3B3"
   },
   "outputs": [],
   "source": [
    "from sklearn.preprocessing import StandardScaler, OneHotEncoder\n",
    "from sklearn.compose import ColumnTransformer, make_column_transformer\n",
    "from sklearn.pipeline import Pipeline\n",
    "from sklearn.impute import SimpleImputer\n",
    "from sklearn.preprocessing import StandardScaler, OneHotEncoder\n",
    "\n",
    "# Create the preprocessing pipelines for both numeric and categorical data.\n",
    "\n",
    "numeric_features = ## Drop all the non-numerical features from X_train\n",
    "numeric_features=numeric_features.columns.tolist()\n",
    "\n",
    "numeric_transformer = Pipeline(steps=[\n",
    "    ('imputer', SimpleImputer(strategy='constant', fill_value=0)), ## Is this good enough?\n",
    "    ('scaler', StandardScaler())]) # You will need to describe why this is being done in the next cell\n",
    "\n",
    "categorical_features = ['region', 'sub-region']\n",
    "\n",
    "#Replacing missing values with Modal value and then one hot encoding.\n",
    "categorical_transformer = Pipeline(steps=[\n",
    "    ('imputer',  ## Fill here )),\n",
    "    ('onehot', OneHotEncoder(handle_unknown= ## Fill here  ))])\n",
    "\n",
    "# final preprocessor object set up with ColumnTransformer\n",
    "preprocessor = ColumnTransformer(transformers=[('num', numeric_transformer, numeric_features),('cat', categorical_transformer, categorical_features)])\n",
    "\n",
    "#Fit your preprocessor object\n",
    "preprocess=preprocessor.fit(X_train)"
   ]
  },
  {
   "cell_type": "markdown",
   "metadata": {
    "id": "a-_wL1ZfnnRr"
   },
   "source": [
    "Describe step-by-step what we are doing above, and why? You are free to change how values are imputed. What change did you make if any, and why?"
   ]
  },
  {
   "cell_type": "code",
   "execution_count": null,
   "metadata": {
    "id": "7_k1H1XvnlEg"
   },
   "outputs": [],
   "source": [
    "## Your answer :"
   ]
  },
  {
   "cell_type": "code",
   "execution_count": null,
   "metadata": {
    "id": "S_PaNOG0SUIk"
   },
   "outputs": [],
   "source": [
    "# Write function to transform data with preprocessor\n",
    "\n",
    "def preprocessor(data):\n",
    "    data.drop(['Country or region', 'name'], axis=1)\n",
    "    preprocessed_data=preprocess.transform(data)\n",
    "    return preprocessed_data"
   ]
  },
  {
   "cell_type": "markdown",
   "metadata": {
    "id": "ihlVBhHQnxdU"
   },
   "source": [
    "What are the differences between the \"preprocessor\" object, the \"preprocess\" object, the \"preprocessor\" function,  and the \"preprocessed_data\" that is returned finally?"
   ]
  },
  {
   "cell_type": "code",
   "execution_count": null,
   "metadata": {
    "id": "KgszpguCoBkB"
   },
   "outputs": [],
   "source": [
    "## Your Answer :"
   ]
  },
  {
   "cell_type": "code",
   "execution_count": null,
   "metadata": {
    "id": "a1IPy9xvSWBp"
   },
   "outputs": [],
   "source": [
    "# check shape of X data after preprocessing it using our new function\n",
    "preprocessor(X_train).shape"
   ]
  },
  {
   "cell_type": "markdown",
   "metadata": {
    "id": "X52kECL43b-O"
   },
   "source": [
    "##3. Fit model on preprocessed data and save preprocessor function and model\n"
   ]
  },
  {
   "cell_type": "code",
   "execution_count": null,
   "metadata": {
    "id": "NCbBf8j9ClYl"
   },
   "outputs": [],
   "source": [
    "from sklearn.ensemble import RandomForestClassifier\n",
    "\n",
    "model = ## Define a Random Forest Model here, fit it, and score it\n",
    "\n",
    "# Your cell should have a score between 0-1 as output"
   ]
  },
  {
   "cell_type": "markdown",
   "metadata": {
    "id": "gHWkAzvX3m8O"
   },
   "source": [
    "## 4. Generate predictions from X_test data and compare it with true labels in Y_test.csv file\n"
   ]
  },
  {
   "cell_type": "code",
   "execution_count": null,
   "metadata": {
    "id": "_Ql4wksyEUnP"
   },
   "outputs": [],
   "source": [
    "#-- Generate predicted values (Model 1)\n",
    "prediction_labels = model.predict(preprocessor(X_test))\n",
    "\n",
    "## Write code to show model performance by comparing prediction_labels with true labels\n"
   ]
  },
  {
   "cell_type": "markdown",
   "metadata": {
    "id": "SLg12oeqeP12"
   },
   "source": [
    "## 5. Repeat submission process to improve place on leaderboard\n"
   ]
  },
  {
   "cell_type": "code",
   "execution_count": null,
   "metadata": {
    "id": "PYG5FywVeP17"
   },
   "outputs": [],
   "source": [
    "# Train model 2 using same preprocessor (note that you could save a new preprocessor, but we will use the same one for this example).\n",
    "from sklearn.ensemble import RandomForestClassifier\n",
    "\n",
    "model_2 = ## Make a new model with changed parameters to improve the score"
   ]
  },
  {
   "cell_type": "markdown",
   "metadata": {
    "id": "bYMEPL2UrWn8"
   },
   "source": [
    " What changes did you make, what do the parameters you changed control, and why does it improve performance?"
   ]
  },
  {
   "cell_type": "code",
   "execution_count": null,
   "metadata": {
    "id": "SaGdMOIcrmX2"
   },
   "outputs": [],
   "source": [
    "## Your answer :"
   ]
  },
  {
   "cell_type": "code",
   "execution_count": null,
   "metadata": {
    "id": "nszPPrfwPlUk"
   },
   "outputs": [],
   "source": [
    "#Evaluate Model 2:\n",
    "\n",
    "#-- Generate predicted y values (Model 2)\n",
    "prediction_labels = # Predict\n",
    "\n",
    "## Write code to show model performance by comparing prediction_labels with true labels\n"
   ]
  },
  {
   "cell_type": "markdown",
   "metadata": {
    "id": "yhzJ7NGOtehX"
   },
   "source": [
    "Do you think it is worth making more changes to the parameters? Should we keep trying random values and see what works better? What is an alternative to doing this manually?"
   ]
  },
  {
   "cell_type": "code",
   "execution_count": null,
   "metadata": {
    "id": "7Sx3ivg1td_B"
   },
   "outputs": [],
   "source": [
    "## Your answer:"
   ]
  },
  {
   "cell_type": "code",
   "execution_count": null,
   "metadata": {
    "id": "6Go4SF37Ex_Z"
   },
   "outputs": [],
   "source": [
    "# Submit a third model using GridSearchCV\n",
    "\n",
    "from sklearn.ensemble import RandomForestClassifier\n",
    "from sklearn.model_selection import GridSearchCV\n",
    "import numpy as np\n",
    "\n",
    "param_grid = # Use np.arange to create a sequence of numbers for each parameter's space you think should be searched\n",
    "\n",
    "gridmodel = # Read GridSearchCV docs and create an object with RandomForestClassifier as the model\n",
    "\n",
    "#use model methods to fit score and predict model:\n",
    "\n",
    "\n",
    "#extract best score and parameter by calling objects \"best_score_\" and \"best_params_\"\n",
    "print(\"best mean cross-validation score: {:.3f}\".format(gridmodel.best_score_))\n",
    "print(\"best parameters: {}\".format(gridmodel.best_params_))\n"
   ]
  },
  {
   "cell_type": "code",
   "execution_count": null,
   "metadata": {
    "id": "sMidHABfHVN7"
   },
   "outputs": [],
   "source": [
    "#Submit Model 3:\n",
    "\n",
    "#-- Generate predicted values\n",
    "\n",
    "\n",
    "## Write code to show model performance by comparing prediction_labels with true labels\n"
   ]
  },
  {
   "cell_type": "code",
   "execution_count": null,
   "metadata": {
    "id": "tukB40NshcaB"
   },
   "outputs": [],
   "source": [
    "# Here are several classic ML architectures you can consider choosing from to experiment with next:\n",
    "from sklearn.neighbors import KNeighborsClassifier\n",
    "from sklearn.svm import SVC\n",
    "from sklearn.ensemble import RandomForestClassifier\n",
    "from sklearn.ensemble import BaggingClassifier\n",
    "from sklearn.ensemble import GradientBoostingClassifier\n",
    "\n",
    "\n",
    "model = ## Read documentations of imported models and fit them.\n",
    "\n",
    "#-- Generate predicted values\n",
    "prediction_labels = model.predict(preprocessor(X_test))\n",
    "\n",
    "## Write code to show model performance by comparing prediction_labels with true labels\n"
   ]
  },
  {
   "cell_type": "markdown",
   "metadata": {
    "id": "zeZ16W4GuUW9"
   },
   "source": [
    "Describe what were the parameters you defined in GradientBoostingClassifier, and/or BaggingClassifier, and/or KNNs, and/or SVC? What worked and why?"
   ]
  },
  {
   "cell_type": "code",
   "execution_count": null,
   "metadata": {
    "id": "SJkWFWGPuGk2"
   },
   "outputs": [],
   "source": [
    "## Your answer:"
   ]
  },
  {
   "cell_type": "markdown",
   "metadata": {
    "id": "2e-V2vtMmrrp"
   },
   "source": [
    "# 6. Basic Deep Learning"
   ]
  },
  {
   "cell_type": "code",
   "execution_count": null,
   "metadata": {
    "id": "Me2pkDUsuEBH"
   },
   "outputs": [],
   "source": [
    "# Now experiment with deep learning models:\n",
    "import keras\n",
    "from keras.models import Sequential\n",
    "from keras.layers import Dense, Activation\n",
    "\n",
    "feature_count=#count features in input data\n",
    "\n",
    "keras_model = ## Define a Neural Network Model with 5 layers 128->64->64->32->(?)\n",
    "\n",
    "\n",
    "#Use Softmax activation in last layer. How many neurons should there be in the last layer?\n",
    "\n",
    "\n",
    "\n",
    "# Compile model\n",
    "keras_model.compile(loss='categorical_crossentropy', optimizer='sgd', metrics=['accuracy'])\n",
    "\n",
    "# Fitting the NN to the Training set\n",
    "keras_model.fit(preprocessor(X_train), y_train, ## Note that keras models require a one-hot-encoded y_train object\n",
    "               batch_size = 20,\n",
    "               epochs = 300, validation_split=0.25)"
   ]
  },
  {
   "cell_type": "markdown",
   "metadata": {
    "id": "3ioCyMzn004c"
   },
   "source": [
    "Which activations did you use in the middle layers? Why was softmax used in the last layer?"
   ]
  },
  {
   "cell_type": "code",
   "execution_count": null,
   "metadata": {
    "id": "gIDjsg1C07Iq"
   },
   "outputs": [],
   "source": [
    "## Your answer:"
   ]
  },
  {
   "cell_type": "markdown",
   "metadata": {
    "id": "vJjQq2Uzu3IW"
   },
   "source": [
    "Was it a good idea to train for 300 epochs? Should you train a bit more? Why or why not?"
   ]
  },
  {
   "cell_type": "code",
   "execution_count": null,
   "metadata": {
    "id": "UfyiD8SKvF-C"
   },
   "outputs": [],
   "source": [
    "## Your answer:"
   ]
  },
  {
   "cell_type": "markdown",
   "metadata": {
    "id": "mHwaKILrvID4"
   },
   "source": [
    "Why is loss='categorical_crossentropy' and optimizer='sgd'? Would you want to change something? Why / Why not?"
   ]
  },
  {
   "cell_type": "code",
   "execution_count": null,
   "metadata": {
    "id": "QmpDqteVv8wa"
   },
   "outputs": [],
   "source": [
    "## Your answer:"
   ]
  },
  {
   "cell_type": "markdown",
   "metadata": {
    "id": "fT8-NUAaopVb"
   },
   "source": [
    "Can you try getting the model's training history out and plotting the curves?"
   ]
  },
  {
   "cell_type": "code",
   "execution_count": null,
   "metadata": {
    "id": "FtmlgVsAoyU7"
   },
   "outputs": [],
   "source": [
    "## Your code to plot training and validation curves in a single plot (Make changes in the model cell to be able to do this)"
   ]
  },
  {
   "cell_type": "code",
   "execution_count": null,
   "metadata": {
    "id": "M_uMRKnGu-wC"
   },
   "outputs": [],
   "source": [
    "#-- Generate predicted y values\n",
    "\n",
    "#Note: Keras predict returns the predicted column index location for classification models\n",
    "prediction_column_index= # Predict\n",
    "\n",
    "# extract correct prediction labels\n",
    "prediction_labels = [y_train.columns[i] for i in prediction_column_index]\n",
    "\n",
    "## Write code to show model performance by comparing prediction_labels with true labels\n"
   ]
  },
  {
   "cell_type": "code",
   "execution_count": null,
   "metadata": {
    "id": "NnsyzAcHwOiI"
   },
   "outputs": [],
   "source": [
    "## You are encouraged to try more experimentation and any other models by adding more code cells to this notebook:\n",
    "\n",
    "## You can also try to import any new dataset pertaining to countries, merge it, and see if it helps the predictions.\n",
    "## If it does not, try to explain why it wasn't helpful by exploring variable relationships."
   ]
  },
  {
   "cell_type": "markdown",
   "metadata": {
    "id": "u79b6VFqeP19"
   },
   "source": [
    "Deep learning models are often considered 'black boxes' due to their complexity. Explore methods such as SHAP (SHapley Additive exPlanations) to explain your model's predictions. After applying one of these methods, do you feel it provides a clear and sufficient explanation of how your model makes decisions? How easy or difficult is it to justify your model's predictions using these techniques?"
   ]
  },
  {
   "cell_type": "code",
   "execution_count": null,
   "metadata": {
    "id": "LeJ9bKQNeP19"
   },
   "outputs": [],
   "source": [
    "## Your Code and Answer:"
   ]
  },
  {
   "cell_type": "markdown",
   "metadata": {
    "id": "LAy-p3odm0zv"
   },
   "source": [
    "# 7. Submission of final report and clean code to github\n",
    "\n",
    "[This is a final project you display on your GitHub to the World]\n",
    "\n",
    "**Instructions**\n",
    "- Make a new notebook, visualize any plots you found relevant\n",
    "- Reproduce the code you used for the best models and display results\n",
    "- Write what insights you found useful and what behaviours were observed\n",
    "- Make it in a style of a clean, succint report (within the .ipynb)\n",
    "- Upload this final report notebook to a new repository in your personal github account\n",
    "- Remember to paste the link of your final repo at the top of this notebook where asked"
   ]
  },
  {
   "cell_type": "code",
   "execution_count": null,
   "metadata": {
    "id": "A3KjLkz5plvF"
   },
   "outputs": [],
   "source": []
  }
 ],
 "metadata": {
  "colab": {
   "provenance": []
  },
  "kernelspec": {
   "display_name": "Python 3 (ipykernel)",
   "language": "python",
   "name": "python3"
  },
  "language_info": {
   "codemirror_mode": {
    "name": "ipython",
    "version": 3
   },
   "file_extension": ".py",
   "mimetype": "text/x-python",
   "name": "python",
   "nbconvert_exporter": "python",
   "pygments_lexer": "ipython3",
   "version": "3.11.5"
  }
 },
 "nbformat": 4,
 "nbformat_minor": 1
}
